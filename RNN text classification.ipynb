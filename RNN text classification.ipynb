{
 "cells": [
  {
   "cell_type": "code",
   "execution_count": 1,
   "id": "39c468ff",
   "metadata": {},
   "outputs": [],
   "source": [
    "import numpy as np\n",
    "from numpy import array\n",
    "import pandas as pd\n",
    "import seaborn as sns\n",
    "import matplotlib.pyplot as plt \n",
    "%matplotlib inline\n",
    "import tensorflow as tf\n",
    "from keras.preprocessing.text import one_hot\n",
    "from tensorflow.keras import layers,models"
   ]
  },
  {
   "cell_type": "markdown",
   "id": "aa8581ba",
   "metadata": {},
   "source": [
    "## We will define some text documents to use it in the training of our model"
   ]
  },
  {
   "cell_type": "code",
   "execution_count": 2,
   "id": "55fb041f",
   "metadata": {},
   "outputs": [],
   "source": [
    "docs = ['Well done!',\n",
    "'Good work',\n",
    "'Great effort',\n",
    "'nice work',\n",
    "'Excellent!',\n",
    "'Weak',\n",
    "'Poor effort!',\n",
    "'not good',\n",
    "'poor work',\n",
    "'Could have done better.']"
   ]
  },
  {
   "cell_type": "code",
   "execution_count": 3,
   "id": "322e68a7",
   "metadata": {},
   "outputs": [],
   "source": [
    "labels=[1,1,1,1,1,0,0,0,0,0]"
   ]
  },
  {
   "cell_type": "code",
   "execution_count": 4,
   "id": "bd522111",
   "metadata": {},
   "outputs": [],
   "source": [
    "#Integer encoding the documents"
   ]
  },
  {
   "cell_type": "code",
   "execution_count": 5,
   "id": "3bbca13e",
   "metadata": {},
   "outputs": [],
   "source": [
    "vocab_size=30"
   ]
  },
  {
   "cell_type": "code",
   "execution_count": 6,
   "id": "51fed345",
   "metadata": {},
   "outputs": [],
   "source": [
    "encoded=[one_hot(i,vocab_size) for i in docs]"
   ]
  },
  {
   "cell_type": "code",
   "execution_count": 7,
   "id": "dbf16f62",
   "metadata": {},
   "outputs": [
    {
     "data": {
      "text/plain": [
       "[[29, 20],\n",
       " [24, 29],\n",
       " [3, 6],\n",
       " [8, 29],\n",
       " [28],\n",
       " [19],\n",
       " [4, 6],\n",
       " [18, 24],\n",
       " [4, 29],\n",
       " [3, 3, 20, 26]]"
      ]
     },
     "execution_count": 7,
     "metadata": {},
     "output_type": "execute_result"
    }
   ],
   "source": [
    "encoded"
   ]
  },
  {
   "cell_type": "code",
   "execution_count": 8,
   "id": "fe977c89",
   "metadata": {},
   "outputs": [],
   "source": [
    "#Padding the input sequences to have the same length"
   ]
  },
  {
   "cell_type": "code",
   "execution_count": 9,
   "id": "ad7bc263",
   "metadata": {},
   "outputs": [],
   "source": [
    "padded=tf.keras.preprocessing.sequence.pad_sequences(encoded,maxlen=4,padding='post')"
   ]
  },
  {
   "cell_type": "code",
   "execution_count": 10,
   "id": "6fa365cc",
   "metadata": {},
   "outputs": [
    {
     "data": {
      "text/plain": [
       "array([[29, 20,  0,  0],\n",
       "       [24, 29,  0,  0],\n",
       "       [ 3,  6,  0,  0],\n",
       "       [ 8, 29,  0,  0],\n",
       "       [28,  0,  0,  0],\n",
       "       [19,  0,  0,  0],\n",
       "       [ 4,  6,  0,  0],\n",
       "       [18, 24,  0,  0],\n",
       "       [ 4, 29,  0,  0],\n",
       "       [ 3,  3, 20, 26]])"
      ]
     },
     "execution_count": 10,
     "metadata": {},
     "output_type": "execute_result"
    }
   ],
   "source": [
    "padded"
   ]
  },
  {
   "cell_type": "code",
   "execution_count": 11,
   "id": "3da62ce7",
   "metadata": {},
   "outputs": [
    {
     "data": {
      "text/plain": [
       "10"
      ]
     },
     "execution_count": 11,
     "metadata": {},
     "output_type": "execute_result"
    }
   ],
   "source": [
    "len(padded)"
   ]
  },
  {
   "cell_type": "markdown",
   "id": "cab265e8",
   "metadata": {},
   "source": [
    "## Defining the model"
   ]
  },
  {
   "cell_type": "code",
   "execution_count": 12,
   "id": "9aa3ef12",
   "metadata": {},
   "outputs": [],
   "source": [
    "model=models.Sequential()"
   ]
  },
  {
   "cell_type": "code",
   "execution_count": 13,
   "id": "b103ff89",
   "metadata": {},
   "outputs": [],
   "source": [
    "#the embedding will have a vocabulary size of 30 and an input length of 4 ,i'll choose a small embedding space of 8 dimensions\n",
    "model.add(layers.Embedding(vocab_size,8,input_length=4))"
   ]
  },
  {
   "cell_type": "code",
   "execution_count": 14,
   "id": "0e296962",
   "metadata": {},
   "outputs": [
    {
     "name": "stdout",
     "output_type": "stream",
     "text": [
      "Model: \"sequential\"\n",
      "_________________________________________________________________\n",
      " Layer (type)                Output Shape              Param #   \n",
      "=================================================================\n",
      " embedding (Embedding)       (None, 4, 8)              240       \n",
      "                                                                 \n",
      "=================================================================\n",
      "Total params: 240\n",
      "Trainable params: 240\n",
      "Non-trainable params: 0\n",
      "_________________________________________________________________\n"
     ]
    }
   ],
   "source": [
    "model.summary()"
   ]
  },
  {
   "cell_type": "code",
   "execution_count": 15,
   "id": "63090650",
   "metadata": {},
   "outputs": [],
   "source": [
    "#the output of the embedding layer will be 4 vectors of 8 dimensions each so we need\n",
    "#to flatten this to 1D  to pass it to the Dense output layer"
   ]
  },
  {
   "cell_type": "code",
   "execution_count": 16,
   "id": "822594b3",
   "metadata": {},
   "outputs": [],
   "source": [
    "model.add(layers.Flatten())"
   ]
  },
  {
   "cell_type": "code",
   "execution_count": 17,
   "id": "2a99202a",
   "metadata": {},
   "outputs": [
    {
     "name": "stdout",
     "output_type": "stream",
     "text": [
      "Model: \"sequential\"\n",
      "_________________________________________________________________\n",
      " Layer (type)                Output Shape              Param #   \n",
      "=================================================================\n",
      " embedding (Embedding)       (None, 4, 8)              240       \n",
      "                                                                 \n",
      " flatten (Flatten)           (None, 32)                0         \n",
      "                                                                 \n",
      "=================================================================\n",
      "Total params: 240\n",
      "Trainable params: 240\n",
      "Non-trainable params: 0\n",
      "_________________________________________________________________\n"
     ]
    }
   ],
   "source": [
    "model.summary()"
   ]
  },
  {
   "cell_type": "code",
   "execution_count": 18,
   "id": "36dbcd59",
   "metadata": {},
   "outputs": [],
   "source": [
    "model.add(layers.Dense(1,activation='sigmoid'))"
   ]
  },
  {
   "cell_type": "code",
   "execution_count": 19,
   "id": "596ac64d",
   "metadata": {},
   "outputs": [
    {
     "name": "stdout",
     "output_type": "stream",
     "text": [
      "Model: \"sequential\"\n",
      "_________________________________________________________________\n",
      " Layer (type)                Output Shape              Param #   \n",
      "=================================================================\n",
      " embedding (Embedding)       (None, 4, 8)              240       \n",
      "                                                                 \n",
      " flatten (Flatten)           (None, 32)                0         \n",
      "                                                                 \n",
      " dense (Dense)               (None, 1)                 33        \n",
      "                                                                 \n",
      "=================================================================\n",
      "Total params: 273\n",
      "Trainable params: 273\n",
      "Non-trainable params: 0\n",
      "_________________________________________________________________\n"
     ]
    }
   ],
   "source": [
    "model.summary()"
   ]
  },
  {
   "cell_type": "markdown",
   "id": "9ea5df53",
   "metadata": {},
   "source": [
    "## Compiling the model"
   ]
  },
  {
   "cell_type": "code",
   "execution_count": 20,
   "id": "3347b122",
   "metadata": {},
   "outputs": [],
   "source": [
    "model.compile(optimizer='adam',loss='binary_crossentropy',metrics=['accuracy'])"
   ]
  },
  {
   "cell_type": "code",
   "execution_count": 21,
   "id": "ab7a20f2",
   "metadata": {},
   "outputs": [
    {
     "name": "stdout",
     "output_type": "stream",
     "text": [
      "Model: \"sequential\"\n",
      "_________________________________________________________________\n",
      " Layer (type)                Output Shape              Param #   \n",
      "=================================================================\n",
      " embedding (Embedding)       (None, 4, 8)              240       \n",
      "                                                                 \n",
      " flatten (Flatten)           (None, 32)                0         \n",
      "                                                                 \n",
      " dense (Dense)               (None, 1)                 33        \n",
      "                                                                 \n",
      "=================================================================\n",
      "Total params: 273\n",
      "Trainable params: 273\n",
      "Non-trainable params: 0\n",
      "_________________________________________________________________\n"
     ]
    }
   ],
   "source": [
    "model.summary()"
   ]
  },
  {
   "cell_type": "markdown",
   "id": "5cc3f35c",
   "metadata": {},
   "source": [
    "## Fitting the model"
   ]
  },
  {
   "cell_type": "code",
   "execution_count": 22,
   "id": "971f85af",
   "metadata": {},
   "outputs": [
    {
     "data": {
      "text/plain": [
       "<keras.callbacks.History at 0x210e2e571f0>"
      ]
     },
     "execution_count": 22,
     "metadata": {},
     "output_type": "execute_result"
    }
   ],
   "source": [
    "model.fit(np.array(padded),np.array(labels),epochs=50,verbose=0)"
   ]
  },
  {
   "cell_type": "markdown",
   "id": "5a8cebd6",
   "metadata": {},
   "source": [
    "## Model Evaluation"
   ]
  },
  {
   "cell_type": "code",
   "execution_count": 24,
   "id": "7220966c",
   "metadata": {},
   "outputs": [
    {
     "name": "stdout",
     "output_type": "stream",
     "text": [
      "1/1 [==============================] - 0s 161ms/step - loss: 0.6152 - accuracy: 1.0000\n"
     ]
    }
   ],
   "source": [
    "loss,accuracy=model.evaluate(np.array(padded),np.array(labels))"
   ]
  },
  {
   "cell_type": "code",
   "execution_count": null,
   "id": "9dde3c05",
   "metadata": {},
   "outputs": [],
   "source": []
  }
 ],
 "metadata": {
  "kernelspec": {
   "display_name": "Python 3",
   "language": "python",
   "name": "python3"
  },
  "language_info": {
   "codemirror_mode": {
    "name": "ipython",
    "version": 3
   },
   "file_extension": ".py",
   "mimetype": "text/x-python",
   "name": "python",
   "nbconvert_exporter": "python",
   "pygments_lexer": "ipython3",
   "version": "3.8.8"
  }
 },
 "nbformat": 4,
 "nbformat_minor": 5
}
